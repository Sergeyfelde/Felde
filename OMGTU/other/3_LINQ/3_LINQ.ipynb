{
 "cells": [
  {
   "cell_type": "markdown",
   "metadata": {},
   "source": [
    "# LINQ\n",
    "\n",
    "Цель:\n",
    "1. Научиться выполнять операции над наборами данных с помощью LINQ.\n",
    "2. Научиться работать с форматом JSON.\n",
    "\n",
    "Зачем:\n",
    "1. Обработка данных в функциональном стиле позволяет быстро и эффективно получать решения поставленных задач.\n",
    "2. Это самый современный подход при работе со структурами данных, используется на всех платформах и языках, в машинном обучении. "
   ]
  },
  {
   "cell_type": "markdown",
   "metadata": {},
   "source": [
    "Примеры из [статьи](https://habr.com/ru/companies/otus/articles/723438/): "
   ]
  },
  {
   "cell_type": "code",
   "execution_count": 162,
   "metadata": {
    "dotnet_interactive": {
     "language": "csharp"
    },
    "polyglot_notebook": {
     "kernelName": "csharp"
    }
   },
   "outputs": [],
   "source": [
    "class Product\n",
    "{\n",
    "    public int Id { get; set; }\n",
    "    public string Name { get; set; }\n",
    "    public decimal Price { get; set; }\n",
    "}\n",
    "\n",
    "List<Product> products = new List<Product>\n",
    "{\n",
    "    new Product { Id = 1, Name = \"Ноутбук\", Price = 1200 },\n",
    "    new Product { Id = 2, Name = \"Клавиатура\", Price = 80 },\n",
    "    new Product { Id = 3, Name = \"Мышь\", Price = 30 },\n",
    "    new Product { Id = 4, Name = \"Монитор\", Price = 300 }\n",
    "};"
   ]
  },
  {
   "cell_type": "code",
   "execution_count": 163,
   "metadata": {
    "dotnet_interactive": {
     "language": "csharp"
    },
    "polyglot_notebook": {
     "kernelName": "csharp"
    }
   },
   "outputs": [
    {
     "data": {
      "text/html": [
       "<table><thead><tr><th><i>index</i></th><th>value</th></tr></thead><tbody><tr><td>0</td><td><details class=\"dni-treeview\"><summary><span class=\"dni-code-hint\"><code>Submission#163+Product</code></span></summary><div><table><thead><tr></tr></thead><tbody><tr><td>Id</td><td><div class=\"dni-plaintext\"><pre>2</pre></div></td></tr><tr><td>Name</td><td><div class=\"dni-plaintext\"><pre>Клавиатура</pre></div></td></tr><tr><td>Price</td><td><div class=\"dni-plaintext\"><pre>80</pre></div></td></tr></tbody></table></div></details></td></tr><tr><td>1</td><td><details class=\"dni-treeview\"><summary><span class=\"dni-code-hint\"><code>Submission#163+Product</code></span></summary><div><table><thead><tr></tr></thead><tbody><tr><td>Id</td><td><div class=\"dni-plaintext\"><pre>3</pre></div></td></tr><tr><td>Name</td><td><div class=\"dni-plaintext\"><pre>Мышь</pre></div></td></tr><tr><td>Price</td><td><div class=\"dni-plaintext\"><pre>30</pre></div></td></tr></tbody></table></div></details></td></tr></tbody></table><style>\r\n",
       ".dni-code-hint {\r\n",
       "    font-style: italic;\r\n",
       "    overflow: hidden;\r\n",
       "    white-space: nowrap;\r\n",
       "}\r\n",
       ".dni-treeview {\r\n",
       "    white-space: nowrap;\r\n",
       "}\r\n",
       ".dni-treeview td {\r\n",
       "    vertical-align: top;\r\n",
       "    text-align: start;\r\n",
       "}\r\n",
       "details.dni-treeview {\r\n",
       "    padding-left: 1em;\r\n",
       "}\r\n",
       "table td {\r\n",
       "    text-align: start;\r\n",
       "}\r\n",
       "table tr { \r\n",
       "    vertical-align: top; \r\n",
       "    margin: 0em 0px;\r\n",
       "}\r\n",
       "table tr td pre \r\n",
       "{ \r\n",
       "    vertical-align: top !important; \r\n",
       "    margin: 0em 0px !important;\r\n",
       "} \r\n",
       "table th {\r\n",
       "    text-align: start;\r\n",
       "}\r\n",
       "</style>"
      ]
     },
     "metadata": {},
     "output_type": "display_data"
    }
   ],
   "source": [
    "// Можно просто выполнить:\n",
    "from product in products\n",
    "where product.Price < 100\n",
    "select product"
   ]
  },
  {
   "cell_type": "code",
   "execution_count": 164,
   "metadata": {
    "dotnet_interactive": {
     "language": "csharp"
    },
    "polyglot_notebook": {
     "kernelName": "csharp"
    }
   },
   "outputs": [
    {
     "data": {
      "text/html": [
       "<table><thead><tr><th><i>index</i></th><th>value</th></tr></thead><tbody><tr><td>0</td><td><details class=\"dni-treeview\"><summary><span class=\"dni-code-hint\"><code>Submission#163+Product</code></span></summary><div><table><thead><tr></tr></thead><tbody><tr><td>Id</td><td><div class=\"dni-plaintext\"><pre>2</pre></div></td></tr><tr><td>Name</td><td><div class=\"dni-plaintext\"><pre>Клавиатура</pre></div></td></tr><tr><td>Price</td><td><div class=\"dni-plaintext\"><pre>80</pre></div></td></tr></tbody></table></div></details></td></tr><tr><td>1</td><td><details class=\"dni-treeview\"><summary><span class=\"dni-code-hint\"><code>Submission#163+Product</code></span></summary><div><table><thead><tr></tr></thead><tbody><tr><td>Id</td><td><div class=\"dni-plaintext\"><pre>3</pre></div></td></tr><tr><td>Name</td><td><div class=\"dni-plaintext\"><pre>Мышь</pre></div></td></tr><tr><td>Price</td><td><div class=\"dni-plaintext\"><pre>30</pre></div></td></tr></tbody></table></div></details></td></tr></tbody></table><style>\r\n",
       ".dni-code-hint {\r\n",
       "    font-style: italic;\r\n",
       "    overflow: hidden;\r\n",
       "    white-space: nowrap;\r\n",
       "}\r\n",
       ".dni-treeview {\r\n",
       "    white-space: nowrap;\r\n",
       "}\r\n",
       ".dni-treeview td {\r\n",
       "    vertical-align: top;\r\n",
       "    text-align: start;\r\n",
       "}\r\n",
       "details.dni-treeview {\r\n",
       "    padding-left: 1em;\r\n",
       "}\r\n",
       "table td {\r\n",
       "    text-align: start;\r\n",
       "}\r\n",
       "table tr { \r\n",
       "    vertical-align: top; \r\n",
       "    margin: 0em 0px;\r\n",
       "}\r\n",
       "table tr td pre \r\n",
       "{ \r\n",
       "    vertical-align: top !important; \r\n",
       "    margin: 0em 0px !important;\r\n",
       "} \r\n",
       "table th {\r\n",
       "    text-align: start;\r\n",
       "}\r\n",
       "</style>"
      ]
     },
     "metadata": {},
     "output_type": "display_data"
    }
   ],
   "source": [
    "// Можно сохранить результат в переменную:\n",
    "var cheapProducts = from product in products\n",
    "                    where product.Price < 100\n",
    "                    select product;\n",
    "\n",
    "cheapProducts"
   ]
  },
  {
   "cell_type": "code",
   "execution_count": 165,
   "metadata": {
    "dotnet_interactive": {
     "language": "csharp"
    },
    "polyglot_notebook": {
     "kernelName": "csharp"
    }
   },
   "outputs": [
    {
     "data": {
      "text/html": [
       "<table><thead><tr><th><i>index</i></th><th>value</th></tr></thead><tbody><tr><td>0</td><td><details class=\"dni-treeview\"><summary><span class=\"dni-code-hint\"><code>Submission#163+Product</code></span></summary><div><table><thead><tr></tr></thead><tbody><tr><td>Id</td><td><div class=\"dni-plaintext\"><pre>2</pre></div></td></tr><tr><td>Name</td><td><div class=\"dni-plaintext\"><pre>Клавиатура</pre></div></td></tr><tr><td>Price</td><td><div class=\"dni-plaintext\"><pre>80</pre></div></td></tr></tbody></table></div></details></td></tr><tr><td>1</td><td><details class=\"dni-treeview\"><summary><span class=\"dni-code-hint\"><code>Submission#163+Product</code></span></summary><div><table><thead><tr></tr></thead><tbody><tr><td>Id</td><td><div class=\"dni-plaintext\"><pre>3</pre></div></td></tr><tr><td>Name</td><td><div class=\"dni-plaintext\"><pre>Мышь</pre></div></td></tr><tr><td>Price</td><td><div class=\"dni-plaintext\"><pre>30</pre></div></td></tr></tbody></table></div></details></td></tr></tbody></table><style>\r\n",
       ".dni-code-hint {\r\n",
       "    font-style: italic;\r\n",
       "    overflow: hidden;\r\n",
       "    white-space: nowrap;\r\n",
       "}\r\n",
       ".dni-treeview {\r\n",
       "    white-space: nowrap;\r\n",
       "}\r\n",
       ".dni-treeview td {\r\n",
       "    vertical-align: top;\r\n",
       "    text-align: start;\r\n",
       "}\r\n",
       "details.dni-treeview {\r\n",
       "    padding-left: 1em;\r\n",
       "}\r\n",
       "table td {\r\n",
       "    text-align: start;\r\n",
       "}\r\n",
       "table tr { \r\n",
       "    vertical-align: top; \r\n",
       "    margin: 0em 0px;\r\n",
       "}\r\n",
       "table tr td pre \r\n",
       "{ \r\n",
       "    vertical-align: top !important; \r\n",
       "    margin: 0em 0px !important;\r\n",
       "} \r\n",
       "table th {\r\n",
       "    text-align: start;\r\n",
       "}\r\n",
       "</style>"
      ]
     },
     "metadata": {},
     "output_type": "display_data"
    }
   ],
   "source": [
    "// Синтаксис методов\n",
    "\n",
    "products.Where(p => p.Price < 100)"
   ]
  },
  {
   "cell_type": "markdown",
   "metadata": {},
   "source": [
    "# Задание 3\n",
    "\n",
    "## Часть 1\n",
    "В задании 1 заменить императивные элементы на LINQ\n"
   ]
  },
  {
   "cell_type": "markdown",
   "metadata": {},
   "source": [
    "## Часть 2\n",
    "1. Изучите руководство по LINQ https://docs.microsoft.com/ru-ru/dotnet/csharp/linq/\n",
    "Не только Обзор, который открывается по ссылке, но и весь раздел LINQ\n",
    "2. Обязательно нужно ознакомиться с функциями-расширениями https://docs.microsoft.com/ru-ru/dotnet/csharp/programming-guide/classes-and-structs/extension-methods. Весь LINQ построен на функциях-расширениях.\n",
    "3. Изучите статью по JSON: https://habr.com/ru/articles/554274/\n",
    "4. Добавить зависимость Newtonsoft.Json \n",
    "    1. https://learn.microsoft.com/ru-ru/dotnet/core/tools/dotnet-add-package\n",
    "    2. https://github.com/dotnet/interactive/blob/main/docs/magic-commands.md#c-kernel\n",
    "    3. https://www.nuget.org/packages/Newtonsoft.Json/\n",
    "5. Ознакомиться с примерами работы с библиотекой Newtonsoft.Json https://www.newtonsoft.com/json/help/html/FromObject.htm#\n",
    "\n",
    "6. Предположим, что экзаменационная ведомость содержит следующие сведения о студентах:\n",
    "    1. Имя\n",
    "    2. Группа\n",
    "    3. Дисциплина\n",
    "    4. Оценка\n",
    "\n",
    "\n",
    "| Name  | Group  |  Discipline | Mark  |\n",
    "|---|---|---|---|\n",
    "| Cadet1 | SC-991 | Programming | 5 |\n",
    "| Cadet2 | SC-991 | Programming | 3 |\n",
    "| Cadet1 | SC-991 | Algebra     | 5 |\n",
    "| Cadet2 | SC-991 | Algebra     | 4 |\n",
    "| Cadet3 | SC-992 | Programming | 4 |\n",
    "| Cadet4 | SC-992 | Programming | 5 |\n",
    "| Cadet3 | SC-992 | Algebra     | 3 |\n",
    "| Cadet4 | SC-992 | Algebra     | 5 |\n",
    "\n",
    "\n",
    "7. Решить следующие задачи:\n",
    "    1. Определить студента/студентов с максимальным средним баллом. (\"taskName\": \"GetStudentsWithHighestGPA\")\n",
    "    Пример: https://pastes.io/qxur8yardo\n",
    "\n",
    "    2. Вычислить средний балл по каждому предмету. (\"taskName\": \"CalculateGPAByDiscipline\")\n",
    "    Пример: https://pastes.io/zmspfvpzzx\n",
    "\n",
    "    3. По каждому предмету определить группу с лучшим средним баллом. (\"taskName\": \"GetBestGroupsByDiscipline\")\n",
    "    Пример: https://pastes.io/z9txezxfsc\n",
    "\n",
    "\n",
    "8. На входе два аргумента:\n",
    "    - Путь к файлу с JSON’ом в текстовом виде, откуда нужно считать тип задачи и данные (входной файл)\n",
    "    - Путь к файлу, куда нужно записать результат (выходной файл)\n",
    "    - Важно! Формат входного и выходного файла можно увидеть в примерах."
   ]
  },
  {
   "cell_type": "code",
   "execution_count": 166,
   "metadata": {},
   "outputs": [
    {
     "name": "stdout",
     "output_type": "stream",
     "text": [
      "35,99\r\n"
     ]
    }
   ],
   "source": [
    "using System.Linq;\n",
    "\n",
    "class TrapezoidalRule {\n",
    "    public static double Solve(Func<double, double> f, double a, double b, double dx) \n",
    "    {\n",
    "        if (a == Double.PositiveInfinity || a == Double.NegativeInfinity ||\n",
    "        b == Double.PositiveInfinity || b == Double.NegativeInfinity ||\n",
    "        dx == Double.PositiveInfinity || dx == Double.NegativeInfinity)\n",
    "            throw new ArgumentException(\"Бесконечность на вводе!\");\n",
    "        if (b < a)\n",
    "            throw new ArgumentException(\"Некорректные пределы!\");\n",
    "        double result = 0;\n",
    "        double x = a;\n",
    "        double e = 1E-7;\n",
    "        if (dx < e) throw new ArgumentException(\"Слишком маленький шаг\");\n",
    "        if (Math.Abs(b - a) < e) throw new ArgumentException(\"Слишком маленькая разница между началом и концом интеграла\");\n",
    "        int n = Convert.ToInt32(Math.Floor((b - a) / dx));\n",
    "        result = Enumerable.Range(1, n).Select(i => (f(x + i * dx) + f((x + (i - 1) * dx))) / 2 * dx).Sum();\n",
    "        if (((b - a) / dx - n) > e)\n",
    "        {\n",
    "            result += (f(b) + f((x + n * dx))) / 2 * (b - (x + n * dx));\n",
    "        }\n",
    "        return(result);\n",
    "    }\n",
    "}\n",
    "Func<double, double> f = (double x) => -x*x + 9;\n",
    "var answ = TrapezoidalRule.Solve(f, -3, 3, 0.1);\n",
    "Console.WriteLine(answ);"
   ]
  },
  {
   "cell_type": "code",
   "execution_count": 167,
   "metadata": {
    "dotnet_interactive": {
     "language": "csharp"
    },
    "polyglot_notebook": {
     "kernelName": "csharp"
    }
   },
   "outputs": [
    {
     "name": "stdout",
     "output_type": "stream",
     "text": [
      "GetStudentsWithHighestGPA\n",
      "{\n",
      "  \"Response\": [\n",
      "    {\n",
      "      \"Cadet\": \"Cadet1\",\n",
      "      \"GPA\": 5.0\n",
      "    },\n",
      "    {\n",
      "      \"Cadet\": \"Cadet4\",\n",
      "      \"GPA\": 5.0\n",
      "    }\n",
      "  ]\n",
      "}\n",
      "CalculateGPAByDiscipline\n",
      "{\n",
      "  \"Response\": [\n",
      "    {\n",
      "      \"Programming\": 4.25\n",
      "    },\n",
      "    {\n",
      "      \"Algebra\": 4.25\n",
      "    }\n",
      "  ]\n",
      "}\n",
      "GetBestGroupsByDiscipline\n",
      "{\n",
      "  \"Response\": [\n",
      "    {\n",
      "      \"Discipline\": \"Programming\",\n",
      "      \"Group\": \"SC-992\",\n",
      "      \"GPA\": 4.5\n",
      "    },\n",
      "    {\n",
      "      \"Discipline\": \"Algebra\",\n",
      "      \"Group\": \"SC-991\",\n",
      "      \"GPA\": 4.5\n",
      "    }\n",
      "  ]\n",
      "}\n"
     ]
    }
   ],
   "source": [
    "using System.IO;\n",
    "using Newtonsoft.Json;\n",
    "using System.Linq;\n",
    "\n",
    "public class Files\n",
    "{\n",
    "    public string taskName { get; set; }\n",
    "    public List<Student> data { get; set; }\n",
    "}\n",
    "public class Student\n",
    "{\n",
    "    public string name { get; set; }\n",
    "    public string group { get; set; }\n",
    "    public string discipline { get; set; }\n",
    "    public int mark { get; set; }\n",
    "}\n",
    "public class Student_GPA\n",
    "{\n",
    "\n",
    "   public string Cadet { get; set; }\n",
    "   public double GPA { get; set; }\n",
    "\n",
    "   public Student_GPA(string cadet, double gpa)\n",
    "   {\n",
    "      Cadet = cadet;\n",
    "      GPA = gpa;\n",
    "   }\n",
    "}\n",
    "public class Group_GPA_ByDis\n",
    "{\n",
    "   public string Discipline {get; set; }\n",
    "   public string Group {get; set; }\n",
    "   public double GPA {get; set; }\n",
    "\n",
    "   public Group_GPA_ByDis(string dis, string gr, double gpa)\n",
    "   {\n",
    "      Discipline = dis;\n",
    "      Group = gr;\n",
    "      GPA = gpa;\n",
    "   }\n",
    "}\n",
    "public class Response1\n",
    "{\n",
    "    List<Student_GPA> rsp1;\n",
    "    public List<Student_GPA> Response {get => rsp1; set => this.rsp1 = value; }\n",
    "    public Response1(List<Student_GPA> rsp1)\n",
    "    {\n",
    "        this.rsp1 = rsp1;\n",
    "    }\n",
    "}\n",
    "public class Response2\n",
    "{\n",
    "    List<object> rsp2;\n",
    "    public List<object> Response {get => rsp2; set => this.rsp2 = value; }\n",
    "    public Response2(List<object> rsp2)\n",
    "    {\n",
    "        this.rsp2 = rsp2;\n",
    "    }\n",
    "}\n",
    "public class Response3\n",
    "{\n",
    "    List<Group_GPA_ByDis> rsp3;\n",
    "    public List<Group_GPA_ByDis> Response {get => rsp3; set => this.rsp3 = value; }\n",
    "    public Response3(List<Group_GPA_ByDis> rsp3)\n",
    "    {\n",
    "        this.rsp3 = rsp3;\n",
    "    }\n",
    "}\n",
    "List<string> list_of_f = new List<string>(){\"./GetStudentsWithHighestGPA.json\", \"./CalculateGPAByDiscipline.json\", \"./GetBestGroupsByDiscipline.json\"};\n",
    "for (int f_i = 0; f_i < 3; f_i++)\n",
    "{\n",
    "    string text = File.ReadAllText($\"{list_of_f[f_i]}\");\n",
    "    Files file = System.Text.Json.JsonSerializer.Deserialize<Files>(text);\n",
    "    var task = file.taskName;\n",
    "    switch (task)\n",
    "    {\n",
    "        case \"GetStudentsWithHighestGPA\":\n",
    "            Console.WriteLine(\"GetStudentsWithHighestGPA\");\n",
    "            var st_by_names = from id in file.data \n",
    "                group id by id.name;\n",
    "            var st_gpa = from el in st_by_names \n",
    "                select new Student_GPA(\n",
    "                    el.Key, (from k in el \n",
    "                        select k.mark\n",
    "                        ).Average());\n",
    "            double mx_gpa = (from a in st_gpa \n",
    "                select a.GPA\n",
    "                ).Max();\n",
    "            var st_hi_gpa_ienum = from i in st_gpa \n",
    "                where i.GPA == mx_gpa \n",
    "                        select i;\n",
    "\n",
    "            List<Student_GPA> st_hi_gpa_lt = st_hi_gpa_ienum.ToList<Student_GPA>();\n",
    "            Response1 response1 = new Response1(st_hi_gpa_lt);\n",
    "            string jsonOut1 = JsonConvert.SerializeObject(response1, Formatting.Indented);\n",
    "            Console.WriteLine (jsonOut1);\n",
    "            File.WriteAllText(\"out1.json\", jsonOut1);\n",
    "            break;\n",
    "        case \"CalculateGPAByDiscipline\":\n",
    "            Console.WriteLine(\"CalculateGPAByDiscipline\");\n",
    "            var lst_dis = (from id in file.data \n",
    "                select id.discipline\n",
    "                ).Distinct();\n",
    "            var gpa_by_dis_ienum = from disc in lst_dis \n",
    "                select new Dictionary<string, double>\n",
    "            {\n",
    "                {disc, (from st in file.data \n",
    "                    where st.discipline == disc select st.mark\n",
    "                    ).Average()}\n",
    "            };\n",
    "            \n",
    "            List<object> gpa_by_dis_lt = gpa_by_dis_ienum.ToList<object>();\n",
    "            Response2 response2 = new Response2(gpa_by_dis_lt);\n",
    "            string jsonOut2 = JsonConvert.SerializeObject(response2, Formatting.Indented);\n",
    "            Console.WriteLine (jsonOut2);\n",
    "            File.WriteAllText(\"out2.json\", jsonOut2);\n",
    "            break;\n",
    "        case \"GetBestGroupsByDiscipline\":\n",
    "            Console.WriteLine(\"GetBestGroupsByDiscipline\");\n",
    "            var st_by_dis = from id in file.data\n",
    "                group id by id.discipline;\n",
    "            var gr_gpa = (from el in st_by_dis \n",
    "                from i in el \n",
    "                    select new Group_GPA_ByDis(\n",
    "                        el.Key, \n",
    "                        i.@group, \n",
    "                        (from k in el \n",
    "                            where k.@group == i.@group \n",
    "                                select k.mark\n",
    "                        ).Average())\n",
    "                ).DistinctBy(i => (i.Group, i.Discipline));\n",
    "            var mx_gpa_dis_ienum = from i in gr_gpa \n",
    "                where i.GPA == (from a in gr_gpa \n",
    "                    where a.Discipline == i.Discipline \n",
    "                        select a.GPA\n",
    "                        ).Max() \n",
    "                select i;\n",
    "            \n",
    "            List<Group_GPA_ByDis> mx_gpa_dis_lt = mx_gpa_dis_ienum.ToList<Group_GPA_ByDis>();\n",
    "            Response3 response3 = new Response3(mx_gpa_dis_lt);\n",
    "            string jsonOut3 = JsonConvert.SerializeObject(response3, Formatting.Indented);\n",
    "            Console.WriteLine (jsonOut3);\n",
    "            File.WriteAllText(\"out3.json\", jsonOut3);\n",
    "        break;\n",
    "    }  \n",
    "}"
   ]
  }
 ],
 "metadata": {
  "kernelspec": {
   "display_name": ".NET (C#)",
   "language": "C#",
   "name": ".net-csharp"
  },
  "language_info": {
   "name": "polyglot-notebook"
  },
  "polyglot_notebook": {
   "kernelInfo": {
    "defaultKernelName": "csharp",
    "items": [
     {
      "aliases": [],
      "languageName": "csharp",
      "name": "csharp"
     }
    ]
   }
  }
 },
 "nbformat": 4,
 "nbformat_minor": 2
}
