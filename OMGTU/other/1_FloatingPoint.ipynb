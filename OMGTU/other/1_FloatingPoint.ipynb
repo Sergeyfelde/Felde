{
 "cells": [
  {
   "cell_type": "code",
   "execution_count": 437,
   "metadata": {
    "dotnet_interactive": {
     "language": "csharp"
    },
    "polyglot_notebook": {
     "kernelName": "csharp"
    }
   },
   "outputs": [
    {
     "data": {
      "text/html": [
       "<div class=\"dni-plaintext\"><pre>0.1</pre></div><style>\r\n",
       ".dni-code-hint {\r\n",
       "    font-style: italic;\r\n",
       "    overflow: hidden;\r\n",
       "    white-space: nowrap;\r\n",
       "}\r\n",
       ".dni-treeview {\r\n",
       "    white-space: nowrap;\r\n",
       "}\r\n",
       ".dni-treeview td {\r\n",
       "    vertical-align: top;\r\n",
       "    text-align: start;\r\n",
       "}\r\n",
       "details.dni-treeview {\r\n",
       "    padding-left: 1em;\r\n",
       "}\r\n",
       "table td {\r\n",
       "    text-align: start;\r\n",
       "}\r\n",
       "table tr { \r\n",
       "    vertical-align: top; \r\n",
       "    margin: 0em 0px;\r\n",
       "}\r\n",
       "table tr td pre \r\n",
       "{ \r\n",
       "    vertical-align: top !important; \r\n",
       "    margin: 0em 0px !important;\r\n",
       "} \r\n",
       "table th {\r\n",
       "    text-align: start;\r\n",
       "}\r\n",
       "</style>"
      ]
     },
     "metadata": {},
     "output_type": "display_data"
    }
   ],
   "source": [
    "0.1"
   ]
  },
  {
   "cell_type": "code",
   "execution_count": 438,
   "metadata": {
    "dotnet_interactive": {
     "language": "csharp"
    },
    "polyglot_notebook": {
     "kernelName": "csharp"
    }
   },
   "outputs": [
    {
     "data": {
      "text/html": [
       "<div class=\"dni-plaintext\"><pre>0.2</pre></div><style>\r\n",
       ".dni-code-hint {\r\n",
       "    font-style: italic;\r\n",
       "    overflow: hidden;\r\n",
       "    white-space: nowrap;\r\n",
       "}\r\n",
       ".dni-treeview {\r\n",
       "    white-space: nowrap;\r\n",
       "}\r\n",
       ".dni-treeview td {\r\n",
       "    vertical-align: top;\r\n",
       "    text-align: start;\r\n",
       "}\r\n",
       "details.dni-treeview {\r\n",
       "    padding-left: 1em;\r\n",
       "}\r\n",
       "table td {\r\n",
       "    text-align: start;\r\n",
       "}\r\n",
       "table tr { \r\n",
       "    vertical-align: top; \r\n",
       "    margin: 0em 0px;\r\n",
       "}\r\n",
       "table tr td pre \r\n",
       "{ \r\n",
       "    vertical-align: top !important; \r\n",
       "    margin: 0em 0px !important;\r\n",
       "} \r\n",
       "table th {\r\n",
       "    text-align: start;\r\n",
       "}\r\n",
       "</style>"
      ]
     },
     "metadata": {},
     "output_type": "display_data"
    }
   ],
   "source": [
    "0.1 + 0.1"
   ]
  },
  {
   "cell_type": "code",
   "execution_count": 439,
   "metadata": {
    "dotnet_interactive": {
     "language": "csharp"
    },
    "polyglot_notebook": {
     "kernelName": "csharp"
    }
   },
   "outputs": [
    {
     "data": {
      "text/html": [
       "<div class=\"dni-plaintext\"><pre>0.30000000000000004</pre></div><style>\r\n",
       ".dni-code-hint {\r\n",
       "    font-style: italic;\r\n",
       "    overflow: hidden;\r\n",
       "    white-space: nowrap;\r\n",
       "}\r\n",
       ".dni-treeview {\r\n",
       "    white-space: nowrap;\r\n",
       "}\r\n",
       ".dni-treeview td {\r\n",
       "    vertical-align: top;\r\n",
       "    text-align: start;\r\n",
       "}\r\n",
       "details.dni-treeview {\r\n",
       "    padding-left: 1em;\r\n",
       "}\r\n",
       "table td {\r\n",
       "    text-align: start;\r\n",
       "}\r\n",
       "table tr { \r\n",
       "    vertical-align: top; \r\n",
       "    margin: 0em 0px;\r\n",
       "}\r\n",
       "table tr td pre \r\n",
       "{ \r\n",
       "    vertical-align: top !important; \r\n",
       "    margin: 0em 0px !important;\r\n",
       "} \r\n",
       "table th {\r\n",
       "    text-align: start;\r\n",
       "}\r\n",
       "</style>"
      ]
     },
     "metadata": {},
     "output_type": "display_data"
    }
   ],
   "source": [
    "0.1 * 3"
   ]
  },
  {
   "cell_type": "markdown",
   "metadata": {},
   "source": [
    "# Примитивные типы данных. Числа."
   ]
  },
  {
   "cell_type": "markdown",
   "metadata": {},
   "source": [
    "**Цель**: изучить представление целых чисел и чисел с плавающей точкой.\n",
    "\n",
    "**Зачем**: в Computer Science работа с числами происходит иначе, чем в классической математике. Поппытка прямого переноса вычислений в математике на компьютерные программы приводит к неточностям и очень неожиданным результатам.\n"
   ]
  },
  {
   "cell_type": "markdown",
   "metadata": {},
   "source": [
    "## Представление числел в памяти"
   ]
  },
  {
   "cell_type": "markdown",
   "metadata": {},
   "source": [
    "Множество целых чисел бесконечно, но мы всегда можем подобрать такое число бит, чтобы представить любое целое число, возникающее при решении конкретной задачи. Множество действительных чисел не только бесконечно, но еще и непрерывно, поэтому, сколько бы мы не взяли бит, мы неизбежно столкнемся с числами, которые не имеют точного представления. Числа с плавающей запятой — один из возможных способов предсталения действительных чисел, который является компромиссом между точностью и диапазоном принимаемых значений."
   ]
  },
  {
   "cell_type": "code",
   "execution_count": 440,
   "metadata": {
    "dotnet_interactive": {
     "language": "csharp"
    },
    "polyglot_notebook": {
     "kernelName": "csharp"
    }
   },
   "outputs": [
    {
     "data": {
      "text/html": [
       "<div class=\"dni-plaintext\"><pre>4</pre></div><style>\r\n",
       ".dni-code-hint {\r\n",
       "    font-style: italic;\r\n",
       "    overflow: hidden;\r\n",
       "    white-space: nowrap;\r\n",
       "}\r\n",
       ".dni-treeview {\r\n",
       "    white-space: nowrap;\r\n",
       "}\r\n",
       ".dni-treeview td {\r\n",
       "    vertical-align: top;\r\n",
       "    text-align: start;\r\n",
       "}\r\n",
       "details.dni-treeview {\r\n",
       "    padding-left: 1em;\r\n",
       "}\r\n",
       "table td {\r\n",
       "    text-align: start;\r\n",
       "}\r\n",
       "table tr { \r\n",
       "    vertical-align: top; \r\n",
       "    margin: 0em 0px;\r\n",
       "}\r\n",
       "table tr td pre \r\n",
       "{ \r\n",
       "    vertical-align: top !important; \r\n",
       "    margin: 0em 0px !important;\r\n",
       "} \r\n",
       "table th {\r\n",
       "    text-align: start;\r\n",
       "}\r\n",
       "</style>"
      ]
     },
     "metadata": {},
     "output_type": "display_data"
    }
   ],
   "source": [
    "sizeof(float)"
   ]
  },
  {
   "cell_type": "code",
   "execution_count": 441,
   "metadata": {
    "dotnet_interactive": {
     "language": "csharp"
    },
    "polyglot_notebook": {
     "kernelName": "csharp"
    }
   },
   "outputs": [
    {
     "data": {
      "text/html": [
       "<div class=\"dni-plaintext\"><pre>8</pre></div><style>\r\n",
       ".dni-code-hint {\r\n",
       "    font-style: italic;\r\n",
       "    overflow: hidden;\r\n",
       "    white-space: nowrap;\r\n",
       "}\r\n",
       ".dni-treeview {\r\n",
       "    white-space: nowrap;\r\n",
       "}\r\n",
       ".dni-treeview td {\r\n",
       "    vertical-align: top;\r\n",
       "    text-align: start;\r\n",
       "}\r\n",
       "details.dni-treeview {\r\n",
       "    padding-left: 1em;\r\n",
       "}\r\n",
       "table td {\r\n",
       "    text-align: start;\r\n",
       "}\r\n",
       "table tr { \r\n",
       "    vertical-align: top; \r\n",
       "    margin: 0em 0px;\r\n",
       "}\r\n",
       "table tr td pre \r\n",
       "{ \r\n",
       "    vertical-align: top !important; \r\n",
       "    margin: 0em 0px !important;\r\n",
       "} \r\n",
       "table th {\r\n",
       "    text-align: start;\r\n",
       "}\r\n",
       "</style>"
      ]
     },
     "metadata": {},
     "output_type": "display_data"
    }
   ],
   "source": [
    "sizeof(double)"
   ]
  },
  {
   "cell_type": "markdown",
   "metadata": {},
   "source": [
    "![](https://habrastorage.org/getpro/habr/post_images/cd5/b22/fbd/cd5b22fbd1c81ee793f03c95193a4477.gif)\n",
    "\n",
    "$(-1)^s \\times M \\times B^E,$ \n",
    "где $s$ — знак, $B$-основание, $E$ — порядок, а $M$ — мантисса."
   ]
  },
  {
   "cell_type": "markdown",
   "metadata": {},
   "source": [
    "Основание определяет систему счисления разрядов. Математически доказано, что числа с плавающей запятой с базой $B=2$ (двоичное представление) наиболее устойчивы к ошибкам округления, поэтому на практике встречаются только базы 2 и, реже, 10. Для дальнейшего изложения будем всегда полагать $B=2$, и формула числа с плавающей запятой будет иметь вид:\n",
    "\n",
    "$(-1)^s \\times M \\times 2^E$ "
   ]
  },
  {
   "cell_type": "markdown",
   "metadata": {},
   "source": [
    "[Демонстрация](https://www.h-schmidt.net/FloatConverter/IEEE754.html)"
   ]
  },
  {
   "cell_type": "code",
   "execution_count": 442,
   "metadata": {
    "dotnet_interactive": {
     "language": "csharp"
    },
    "polyglot_notebook": {
     "kernelName": "csharp"
    }
   },
   "outputs": [
    {
     "name": "stdout",
     "output_type": "stream",
     "text": [
      "0\t0:00000000000:0000000000000000000000000000000000000000000000000000\n",
      "1\t0:01111111111:0000000000000000000000000000000000000000000000000000\n",
      "NaN\t1:11111111111:1000000000000000000000000000000000000000000000000000\n",
      "+Inf\t0:11111111111:0000000000000000000000000000000000000000000000000000\n",
      "-Inf\t1:11111111111:0000000000000000000000000000000000000000000000000000\n"
     ]
    }
   ],
   "source": [
    "string DoubleToBinaryString(double val)\n",
    "{\n",
    "    long v = BitConverter.DoubleToInt64Bits(val);\n",
    "    string binary = Convert.ToString(v, 2);\n",
    "    return binary.PadLeft(64, '0').Insert(12, \":\").Insert(1, \":\");\n",
    "}\n",
    "\n",
    "Console.WriteLine(\"0\\t\" + DoubleToBinaryString(0));\n",
    "Console.WriteLine(\"1\\t\" + DoubleToBinaryString(1));\n",
    "Console.WriteLine(\"NaN\\t\" + DoubleToBinaryString(Double.NaN));\n",
    "Console.WriteLine(\"+Inf\\t\" + DoubleToBinaryString(Double.PositiveInfinity));\n",
    "Console.WriteLine(\"-Inf\\t\" + DoubleToBinaryString(Double.NegativeInfinity));"
   ]
  },
  {
   "cell_type": "code",
   "execution_count": 443,
   "metadata": {
    "dotnet_interactive": {
     "language": "csharp"
    },
    "polyglot_notebook": {
     "kernelName": "csharp"
    }
   },
   "outputs": [
    {
     "name": "stdout",
     "output_type": "stream",
     "text": [
      "0.1\t0:01111111011:1001100110011001100110011001100110011001100110011010\n",
      "0.2\t0:01111111100:1001100110011001100110011001100110011001100110011010\n",
      "0.3\t0:01111111101:0011001100110011001100110011001100110011001100110011\n",
      "0.4\t0:01111111101:1001100110011001100110011001100110011001100110011010\n",
      "0.5\t0:01111111110:0000000000000000000000000000000000000000000000000000\n"
     ]
    }
   ],
   "source": [
    "Console.WriteLine(\"0.1\\t\" + DoubleToBinaryString(0.1));\n",
    "Console.WriteLine(\"0.2\\t\" + DoubleToBinaryString(0.2));\n",
    "Console.WriteLine(\"0.3\\t\" + DoubleToBinaryString(0.3));\n",
    "Console.WriteLine(\"0.4\\t\" + DoubleToBinaryString(0.4));\n",
    "Console.WriteLine(\"0.5\\t\" + DoubleToBinaryString(0.5));"
   ]
  },
  {
   "cell_type": "markdown",
   "metadata": {},
   "source": [
    "## Шаг сетки и машинный эпсилон"
   ]
  },
  {
   "cell_type": "markdown",
   "metadata": {},
   "source": [
    "Шагом сетки называется разность между двумя соседними машинно–представимыми числами, машинным эпсилон —\n",
    "разность между минимальным машинно–представимым числом\n",
    "большим единицы и единицей\n",
    "\n",
    "$\\displaystyle\\varepsilon(x) = \\min_{\\rm y \\gt x}(y-x),$\n",
    "$\\displaystyle\\varepsilon(x) = \\min_{\\rm y \\gt 1}(y-1).$"
   ]
  },
  {
   "cell_type": "code",
   "execution_count": 444,
   "metadata": {
    "dotnet_interactive": {
     "language": "csharp"
    },
    "polyglot_notebook": {
     "kernelName": "csharp"
    }
   },
   "outputs": [
    {
     "data": {
      "text/html": [
       "<div class=\"dni-plaintext\"><pre>1000000000</pre></div><style>\r\n",
       ".dni-code-hint {\r\n",
       "    font-style: italic;\r\n",
       "    overflow: hidden;\r\n",
       "    white-space: nowrap;\r\n",
       "}\r\n",
       ".dni-treeview {\r\n",
       "    white-space: nowrap;\r\n",
       "}\r\n",
       ".dni-treeview td {\r\n",
       "    vertical-align: top;\r\n",
       "    text-align: start;\r\n",
       "}\r\n",
       "details.dni-treeview {\r\n",
       "    padding-left: 1em;\r\n",
       "}\r\n",
       "table td {\r\n",
       "    text-align: start;\r\n",
       "}\r\n",
       "table tr { \r\n",
       "    vertical-align: top; \r\n",
       "    margin: 0em 0px;\r\n",
       "}\r\n",
       "table tr td pre \r\n",
       "{ \r\n",
       "    vertical-align: top !important; \r\n",
       "    margin: 0em 0px !important;\r\n",
       "} \r\n",
       "table th {\r\n",
       "    text-align: start;\r\n",
       "}\r\n",
       "</style>"
      ]
     },
     "metadata": {},
     "output_type": "display_data"
    }
   ],
   "source": [
    "double a = 1000000000;\n",
    "double b = 0.00000001;\n",
    "a + b "
   ]
  },
  {
   "cell_type": "markdown",
   "metadata": {},
   "source": [
    "## Комментарий по квадратным уравнениям"
   ]
  },
  {
   "cell_type": "code",
   "execution_count": 445,
   "metadata": {
    "dotnet_interactive": {
     "language": "csharp"
    },
    "polyglot_notebook": {
     "kernelName": "csharp"
    }
   },
   "outputs": [
    {
     "ename": "Error",
     "evalue": "(3,28): error CS0161: \"SquareEquationIncorrect.Solve(double, double, double)\": не все пути к коду возвращают значение.",
     "output_type": "error",
     "traceback": [
      "(3,28): error CS0161: \"SquareEquationIncorrect.Solve(double, double, double)\": не все пути к коду возвращают значение."
     ]
    }
   ],
   "source": [
    "public class SquareEquationIncorrect\n",
    "{\n",
    "    public static double[] Solve(double a, double b, double c)\n",
    "    {\n",
    "        // ...\n",
    "    }\n",
    "}"
   ]
  },
  {
   "cell_type": "code",
   "execution_count": 446,
   "metadata": {
    "dotnet_interactive": {
     "language": "csharp"
    },
    "polyglot_notebook": {
     "kernelName": "csharp"
    }
   },
   "outputs": [
    {
     "ename": "Error",
     "evalue": "(1,13): error CS0103: Имя \"SquareEquationIncorrect\" не существует в текущем контексте.",
     "output_type": "error",
     "traceback": [
      "(1,13): error CS0103: Имя \"SquareEquationIncorrect\" не существует в текущем контексте."
     ]
    }
   ],
   "source": [
    "var roots = SquareEquationIncorrect.Solve(1, 100000000000000, -1);\n",
    "roots\n",
    "//roots[0]*roots[1]\n"
   ]
  },
  {
   "cell_type": "code",
   "execution_count": 447,
   "metadata": {
    "dotnet_interactive": {
     "language": "csharp"
    },
    "polyglot_notebook": {
     "kernelName": "csharp"
    }
   },
   "outputs": [
    {
     "ename": "Error",
     "evalue": "(3,28): error CS0161: \"SquareEquationCorrect.Solve(double, double, double)\": не все пути к коду возвращают значение.",
     "output_type": "error",
     "traceback": [
      "(3,28): error CS0161: \"SquareEquationCorrect.Solve(double, double, double)\": не все пути к коду возвращают значение."
     ]
    }
   ],
   "source": [
    "public class SquareEquationCorrect\n",
    "{\n",
    "    public static double[] Solve(double a, double b, double c)\n",
    "    {\n",
    "        //\n",
    "    }\n",
    "}\n"
   ]
  },
  {
   "cell_type": "code",
   "execution_count": 448,
   "metadata": {
    "dotnet_interactive": {
     "language": "csharp"
    },
    "polyglot_notebook": {
     "kernelName": "csharp"
    }
   },
   "outputs": [
    {
     "ename": "Error",
     "evalue": "(1,13): error CS0103: Имя \"SquareEquationCorrect\" не существует в текущем контексте.",
     "output_type": "error",
     "traceback": [
      "(1,13): error CS0103: Имя \"SquareEquationCorrect\" не существует в текущем контексте."
     ]
    }
   ],
   "source": [
    "var roots = SquareEquationCorrect.Solve(1, 100000000000000, -1);\n",
    "roots\n",
    "// roots[0]*roots[1]"
   ]
  },
  {
   "cell_type": "markdown",
   "metadata": {},
   "source": [
    "# Задание 1"
   ]
  },
  {
   "cell_type": "markdown",
   "metadata": {},
   "source": [
    "Расчёт определенного интеграла [методом трапеций](https://ru.wikipedia.org/wiki/%D0%9C%D0%B5%D1%82%D0%BE%D0%B4_%D1%82%D1%80%D0%B0%D0%BF%D0%B5%D1%86%D0%B8%D0%B9)"
   ]
  },
  {
   "cell_type": "markdown",
   "metadata": {},
   "source": [
    "![](https://upload.wikimedia.org/wikipedia/commons/0/05/Trapezoidal_rule_illustration_small.svg)"
   ]
  },
  {
   "cell_type": "code",
   "execution_count": 449,
   "metadata": {
    "dotnet_interactive": {
     "language": "csharp"
    },
    "polyglot_notebook": {
     "kernelName": "csharp"
    }
   },
   "outputs": [],
   "source": [
    "// class TrapezoidalRule \n",
    "// {\n",
    "//     public static string Solve(Func<double, double> f, double a, double b, int n) \n",
    "//     {\n",
    "//         double o1 = f(a);\n",
    "//         double sum = 0;\n",
    "//         double h = (b - a) / n;\n",
    "//         double c = a;\n",
    "//         double p = -(-2.0 / 12.0) * (b - a) * Math.Pow(h, 2);\n",
    "//         for (int i = 0; i<n; i++) \n",
    "//         {\n",
    "//             c += h;\n",
    "//             double o2 = f(c);\n",
    "//             double s = ((o1 + o2) / 2) * h;\n",
    "//             sum += s;\n",
    "//             o1 = o2; //погрешность =  -(f''(e)/12)*(b-a)h^2\n",
    "\n",
    "//         }\n",
    "//         string res = $\"{sum.ToString()} +- {p.ToString()}\"; \n",
    "//         return res;\n",
    "//     }\n",
    "// }\n",
    "class TrapezoidalRule \n",
    "{\n",
    "    public static double Solve(Func<double, double> f, double a, double b, double dx) \n",
    "    {\n",
    "        double s = b-a;\n",
    "        if (s<dx)\n",
    "        {\n",
    "            Console.WriteLine(\"Шаг больше расстояния между a и b\");\n",
    "            return Double.NaN;\n",
    "        }\n",
    "        int n = Convert.ToInt32(s / dx);\n",
    "        double o1;\n",
    "        double o2;\n",
    "        double sum = 0;\n",
    "        for (int i = 0; i < n; i++)\n",
    "        {\n",
    "            o1 = f(a + i * dx);\n",
    "            o2 = f(a + (i + 1) * dx);\n",
    "            sum += (dx * (o1 + o2)) / 2;\n",
    "        }\n",
    "        if (s - (dx * n) > Math.Pow(10, -7))\n",
    "        {\n",
    "            o1 = f(a + n * dx);\n",
    "            o2 = b;\n",
    "            sum += (dx * (o1 + o2)) / 2;\n",
    "        }\n",
    "        return sum;\n",
    "    }\n",
    "}"
   ]
  },
  {
   "cell_type": "code",
   "execution_count": 450,
   "metadata": {
    "dotnet_interactive": {
     "language": "csharp"
    },
    "polyglot_notebook": {
     "kernelName": "csharp"
    }
   },
   "outputs": [
    {
     "data": {
      "text/html": [
       "<div class=\"dni-plaintext\"><pre>35</pre></div><style>\r\n",
       ".dni-code-hint {\r\n",
       "    font-style: italic;\r\n",
       "    overflow: hidden;\r\n",
       "    white-space: nowrap;\r\n",
       "}\r\n",
       ".dni-treeview {\r\n",
       "    white-space: nowrap;\r\n",
       "}\r\n",
       ".dni-treeview td {\r\n",
       "    vertical-align: top;\r\n",
       "    text-align: start;\r\n",
       "}\r\n",
       "details.dni-treeview {\r\n",
       "    padding-left: 1em;\r\n",
       "}\r\n",
       "table td {\r\n",
       "    text-align: start;\r\n",
       "}\r\n",
       "table tr { \r\n",
       "    vertical-align: top; \r\n",
       "    margin: 0em 0px;\r\n",
       "}\r\n",
       "table tr td pre \r\n",
       "{ \r\n",
       "    vertical-align: top !important; \r\n",
       "    margin: 0em 0px !important;\r\n",
       "} \r\n",
       "table th {\r\n",
       "    text-align: start;\r\n",
       "}\r\n",
       "</style>"
      ]
     },
     "metadata": {},
     "output_type": "display_data"
    }
   ],
   "source": [
    "Func<double, double> f = (double x) => -x*x + 9; /*f''(x) = -2 */\n",
    "var answ = TrapezoidalRule.Solve(f, -3, 3, 1);\n",
    "answ"
   ]
  },
  {
   "cell_type": "code",
   "execution_count": 451,
   "metadata": {
    "dotnet_interactive": {
     "language": "csharp"
    },
    "polyglot_notebook": {
     "kernelName": "csharp"
    }
   },
   "outputs": [],
   "source": []
  },
  {
   "cell_type": "markdown",
   "metadata": {},
   "source": [
    "## Материалы\n",
    "\n",
    "1. Материалы этой группы равнозначны по содержанию, поэтому достаточно изучить один из них (выбирайте, что больше нравится - видео, статья или книга):\n",
    "-\thttps://www.youtube.com/watch?v=e7Wukn56-O4\n",
    "-\thttps://habr.com/ru/post/337260/\n",
    "-\thttps://habr.com/ru/post/112953/\n",
    "-\thttp://mech.math.msu.su/~iliagri/zip/sem2book.pdf (глава 1)\n",
    "\n",
    "\n",
    "2. http://cs.mipt.ru/wp/wp-content/uploads/2018/09/06-floating.pdf\n",
    "Максимально исчерпывающая информация о числах с плавающей точкой. Один минус - сделано в формате презентации и некоторые вещи не расписаны подробно, поэтому как первый материал не рекомендуется, но после пункта 1.1 можно пытаться читать\n",
    "\n",
    "3. http://mech.math.msu.su/~iliagri/zip/sem2book.pdf (глава 2 Погрешность). Обязательна к изучению. Без этого материала невозможно решить данное задание.\n",
    "\n",
    "4. https://www.validlab.com/goldberg/paper.pdf  Крайне желательно.\n",
    "\n",
    "\n",
    "https://ru.wikipedia.org/wiki/IEEE_754-2008 -- Стандарт описывающий формат представления чисел с плавающей точкой"
   ]
  }
 ],
 "metadata": {
  "kernelspec": {
   "display_name": ".NET (C#)",
   "language": "C#",
   "name": ".net-csharp"
  },
  "language_info": {
   "name": "polyglot-notebook"
  },
  "polyglot_notebook": {
   "kernelInfo": {
    "defaultKernelName": "csharp",
    "items": [
     {
      "aliases": [],
      "languageName": "csharp",
      "name": "csharp"
     }
    ]
   }
  }
 },
 "nbformat": 4,
 "nbformat_minor": 2
}
