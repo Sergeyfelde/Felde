{
 "cells": [
  {
   "cell_type": "code",
   "execution_count": 1,
   "metadata": {
    "dotnet_interactive": {
     "language": "csharp"
    },
    "polyglot_notebook": {
     "kernelName": "csharp"
    }
   },
   "outputs": [
    {
     "name": "stdout",
     "output_type": "stream",
     "text": [
      "Производная первого порядка: -0.33244573310886594\n",
      "Производная второго порядка: -0.020317081350640365\n"
     ]
    },
    {
     "name": "stderr",
     "output_type": "stream",
     "text": [
      "C:\\Users\\felde\\AppData\\Local\\Temp\\ipykernel_15712\\1875392705.py:8: DeprecationWarning: scipy.misc.derivative is deprecated in SciPy v1.10.0; and will be completely removed in SciPy v1.12.0. You may consider using findiff: https://github.com/maroba/findiff or numdifftools: https://github.com/pbrod/numdifftools\n",
      "  dy = derivative(y, x0, dx=1e-6, n=1)\n",
      "C:\\Users\\felde\\AppData\\Local\\Temp\\ipykernel_15712\\1875392705.py:9: DeprecationWarning: scipy.misc.derivative is deprecated in SciPy v1.10.0; and will be completely removed in SciPy v1.12.0. You may consider using findiff: https://github.com/maroba/findiff or numdifftools: https://github.com/pbrod/numdifftools\n",
      "  d2y = derivative(y, x0, dx=1e-6, n=2)\n"
     ]
    }
   ],
   "source": [
    "#1\n",
    "import numpy as np\n",
    "from scipy.misc import derivative\n",
    "\n",
    "def y(x):\n",
    "    return np.sin(np.sqrt(2*x))\n",
    "x0 = 3.5\n",
    "dy = derivative(y, x0, dx=1e-6, n=1)\n",
    "d2y = derivative(y, x0, dx=1e-6, n=2)\n",
    "print(\"Производная первого порядка:\", dy)\n",
    "print(\"Производная второго порядка:\", d2y)"
   ]
  },
  {
   "cell_type": "code",
   "execution_count": 2,
   "metadata": {},
   "outputs": [
    {
     "name": "stdout",
     "output_type": "stream",
     "text": [
      "Символьное представление производной: sqrt(2)*cos(sqrt(2)*sqrt(x))/(2*sqrt(x))\n"
     ]
    }
   ],
   "source": [
    "#2\n",
    "import sympy as sp\n",
    "x = sp.Symbol('x')\n",
    "y = sp.sin(sp.sqrt(2*x))\n",
    "dy = sp.diff(y, x)\n",
    "print(\"Символьное представление производной:\", dy)"
   ]
  },
  {
   "cell_type": "code",
   "execution_count": 3,
   "metadata": {},
   "outputs": [
    {
     "name": "stdout",
     "output_type": "stream",
     "text": [
      "Результат вычисления определённого интеграла с помощью SciPy 0.7672282578889725 +- 1.175547437171076e-10\n",
      "Результат вычисления определённого интеграла с помощью метода прямоугольников 0.7667250875303566\n"
     ]
    }
   ],
   "source": [
    "#3\n",
    "from scipy.integrate import quad\n",
    "\n",
    "def y(x):\n",
    "    return np.sin(np.sqrt(2*x))\n",
    "\n",
    "a, b = 0, 1  # границы интегрирования\n",
    "scipy_result, error = quad(y, a, b)\n",
    "print(\"Результат вычисления определённого интеграла с помощью SciPy\", scipy_result, \"+-\", error)\n",
    "\n",
    "def rectangular_rule(y, a, b, n = 1000):\n",
    "    #Методом прямоугольников\n",
    "    #y: функция, которую нужно интегрировать\n",
    "    #n: количество прямоугольников (по умолчанию 1000)\n",
    "\n",
    "    h = (b - a) / n #h - ширина прямоугольника\n",
    "    x = [a + i * h for i in range(n + 1)]\n",
    "    return h * sum(y(x_i) for x_i in x[:-1])\n",
    "print(\"Результат вычисления определённого интеграла с помощью метода прямоугольников\", rectangular_rule(y, a, b, n = 1000))"
   ]
  },
  {
   "cell_type": "code",
   "execution_count": 4,
   "metadata": {},
   "outputs": [
    {
     "name": "stdout",
     "output_type": "stream",
     "text": [
      "Символьное представление производной: -sqrt(2)*sqrt(x)*cos(sqrt(2)*sqrt(x)) + sin(sqrt(2)*sqrt(x))\n"
     ]
    }
   ],
   "source": [
    "#4\n",
    "import sympy as sp\n",
    "\n",
    "x = sp.Symbol('x')\n",
    "y = sp.sin(sp.sqrt(2*x))\n",
    "integral = sp.integrate(y, x)\n",
    "print(\"Символьное представление интеграла:\", integral)"
   ]
  },
  {
   "cell_type": "code",
   "execution_count": 5,
   "metadata": {},
   "outputs": [
    {
     "name": "stdout",
     "output_type": "stream",
     "text": [
      "Оптимальное значение: 3383.9999999798442\n",
      "Решение: x1 = 11.999999999970266, x2 = 1.4198268654142697e-11\n"
     ]
    }
   ],
   "source": [
    "#5\n",
    "from scipy.optimize import minimize\n",
    "\n",
    "def objective(x):\n",
    "    return (x[0] + 3)**3 + (x[1] - 3)**2\n",
    "\n",
    "def constraint(x):\n",
    "    return x[0] - 4*x[1] - 12\n",
    "\n",
    "result = minimize(objective, [0, 0],\n",
    "                  constraints={'type': 'ineq', 'fun': constraint},\n",
    "                  bounds=((0, None), (0, None)))\n",
    "#[0,0] - начальная точка\n",
    "#constraints - ограничения\n",
    "#bounds - условия неотрицательности\n",
    "print(f\"Оптимальное значение: {result.fun}\")\n",
    "print(f\"Решение: x1 = {result.x[0]}, x2 = {result.x[1]}\")"
   ]
  }
 ],
 "metadata": {
  "kernelspec": {
   "display_name": "Python 3",
   "language": "python",
   "name": "python3"
  },
  "language_info": {
   "codemirror_mode": {
    "name": "ipython",
    "version": 3
   },
   "file_extension": ".py",
   "mimetype": "text/x-python",
   "name": "python",
   "nbconvert_exporter": "python",
   "pygments_lexer": "ipython3",
   "version": "3.12.0"
  },
  "polyglot_notebook": {
   "kernelInfo": {
    "defaultKernelName": "csharp",
    "items": [
     {
      "aliases": [],
      "languageName": "csharp",
      "name": "csharp"
     }
    ]
   }
  }
 },
 "nbformat": 4,
 "nbformat_minor": 2
}
