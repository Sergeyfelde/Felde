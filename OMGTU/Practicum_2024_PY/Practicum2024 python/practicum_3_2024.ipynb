{
 "cells": [
  {
   "cell_type": "code",
   "execution_count": 916,
   "metadata": {},
   "outputs": [
    {
     "name": "stdout",
     "output_type": "stream",
     "text": [
      "П.1\n",
      "Матрица A:\n",
      "3.0\t-1.2\t-8.0\t8.0\n",
      "21.0\t-19.0\t0.5\t0.0\n",
      "7.0\t0.0\t-4.9\t-2.0\n",
      "1.0\t-2.0\t13.0\t9.0\n"
     ]
    }
   ],
   "source": [
    "import numpy as np\n",
    "\n",
    "#1\n",
    "print(\"П.1\")\n",
    "A = np.array([[3, -1.2, -8, 8], [21, -19, 0.5, 0], [7, 0, -4.9, -2], [1, -2, 13, 9]])\n",
    "print('Матрица A:')\n",
    "print('\\n'.join(['\\t'.join([str(cell) for cell in row]) for row in A]))"
   ]
  },
  {
   "cell_type": "code",
   "execution_count": 917,
   "metadata": {},
   "outputs": [
    {
     "name": "stdout",
     "output_type": "stream",
     "text": [
      "П.2\n",
      "P-матрица перестановок:\n",
      "0.0\t0.0\t0.0\t1.0\n",
      "1.0\t0.0\t0.0\t0.0\n",
      "0.0\t1.0\t0.0\t0.0\n",
      "0.0\t0.0\t1.0\t0.0\n",
      "\n",
      "L-нижняя треугольная матрица:\n",
      "1.0\t0.0\t0.0\t0.0\n",
      "0.333\t1.0\t0.0\t0.0\n",
      "0.048\t-0.173\t1.0\t0.0\n",
      "0.143\t0.239\t-0.567\t1.0\n",
      "\n",
      "U-верхняя треугольная матрица:\n",
      "21.0\t-19.0\t0.5\t0.0\n",
      "0.0\t6.333\t-5.067\t-2.0\n",
      "0.0\t0.0\t12.1\t8.654\n",
      "0.0\t0.0\t0.0\t13.385\n"
     ]
    }
   ],
   "source": [
    "from scipy.linalg import lu\n",
    "#2\n",
    "print(\"П.2\")\n",
    "P, L, U = lu(A)\n",
    "print('P-матрица перестановок:')\n",
    "print('\\n'.join(['\\t'.join([str(cell) for cell in row]) for row in P]))\n",
    "print('\\nL-нижняя треугольная матрица:')\n",
    "print('\\n'.join(['\\t'.join([str(cell) for cell in row]) for row in L.round(3)]))\n",
    "print('\\nU-верхняя треугольная матрица:')\n",
    "print('\\n'.join(['\\t'.join([str(cell) for cell in row]) for row in U.round(3)]))"
   ]
  },
  {
   "cell_type": "code",
   "execution_count": 918,
   "metadata": {},
   "outputs": [
    {
     "name": "stdout",
     "output_type": "stream",
     "text": [
      "П.3\n",
      "Произведение по главной диагонали L:  1.0\n",
      "Произведение по главное диагонали U:  21539.82000000001\n",
      "Определитель обратной матрицы к P:  -1.0\n",
      "Определитель A:  -21539.82000000001\n"
     ]
    }
   ],
   "source": [
    "#3\n",
    "print(\"П.3\")\n",
    "det_P = np.linalg.det(P)\n",
    "if det_P == 0:\n",
    "    print(\"Невозможно найти обратную матрицу к p, определитель равен нулю\")\n",
    "else:\n",
    "    det_L = np.linalg.det(L) #произведение элементов на главное диагонали = определитель треугольной матрицы\n",
    "    det_U = np.linalg.det(U) #произведение элементов на главное диагонали = определитель треугольной матрицы\n",
    "    inv_P = np.linalg.inv(P) #обратная матрица к P\n",
    "    det_inv_P = np.linalg.det(inv_P) # Определитель обратной матрицы к P\n",
    "    print(\"Произведение по главной диагонали L: \", det_L)\n",
    "    print(\"Произведение по главное диагонали U: \", det_U)\n",
    "    print(\"Определитель обратной матрицы к P: \", det_inv_P)\n",
    "    det_A = det_L * det_U * det_inv_P\n",
    "    print(\"Определитель A: \", det_A)\n",
    "    #print(\"Определитель A (проверка): \", np.linalg.det(A))"
   ]
  },
  {
   "cell_type": "code",
   "execution_count": 919,
   "metadata": {},
   "outputs": [
    {
     "name": "stdout",
     "output_type": "stream",
     "text": [
      "П.4\n",
      "Равномерное распределение:\n",
      " 58 77 45 57 95 33 98 66 4 21 71 82 54 39 68 33 51 100 46 51 27 78 95 13 72 57 51 97 12 79 96 18 93 67 94 4 77 65 97 41 80 68 80 88 43 18 22 14 94 73 40 50 45 47 29 23 3 44 57 79 54 30 33 64 73 73 87 31 64 74 59 37 95 73 46 46 92 86 56 16 82 95 25 4 34 60 64 19 90 5 22 84 31 85 49 71 32 77 41 40\n",
      "Нормальное распределение:\n",
      " 46 61 52 49 53 59 50 57 18 40 51 43 52 47 36 45 47 49 51 49 63 56 48 59 48 68 43 41 43 38 63 50 63 52 61 58 54 40 53 43 48 55 43 60 62 59 52 43 44 48 54 48 51 50 57 30 56 37 40 43 53 60 43 66 45 57 44 71 39 50 39 38 47 52 59 54 49 47 53 46 38 61 59 44 61 44 64 52 57 42 45 40 52 50 55 56 54 55 57 58\n"
     ]
    }
   ],
   "source": [
    "#4\n",
    "print(\"П.4\")\n",
    "distrib_uniform = np.random.randint(1, 101, 100)\n",
    "distrib_normal = np.round(np.random.normal(50, 8.94, 100)).astype(int)\n",
    "print(\"Равномерное распределение:\\n\", *distrib_uniform)\n",
    "print(\"Нормальное распределение:\\n\", *distrib_normal)"
   ]
  },
  {
   "cell_type": "code",
   "execution_count": 920,
   "metadata": {},
   "outputs": [
    {
     "name": "stdout",
     "output_type": "stream",
     "text": [
      "П.5\n",
      "a.\n",
      "Среднее для равномерного:  55.78\n",
      "Среднее для нормального:  50.35\n",
      "\n",
      "b.\n",
      "Мода для равномерного:  95\n",
      "Мода для равномерного:  43\n",
      "\n",
      "c.\n",
      "Медиана для равномерного:  57.0\n",
      "Медиана для нормального:  50.5\n",
      "\n",
      "d.\n",
      "Минимум для равномерного:  3\n",
      "Минимум для нормального:  18\n",
      "\n",
      "e.\n",
      "Максимум для равномерного:  100\n",
      "Максимум для нормального:  71\n",
      "\n",
      "f.\n",
      "Стандартное отклонение для равномерного:  27.14832591523831\n",
      "Стандартное отклонение для нормального:  8.568984770671495\n"
     ]
    }
   ],
   "source": [
    "from statistics import mode, median\n",
    "\n",
    "#5\n",
    "print(\"П.5\")\n",
    "print(\"a.\")\n",
    "print(\"Среднее для равномерного: \", np.mean(distrib_uniform))\n",
    "print(\"Среднее для нормального: \", np.mean(distrib_normal))\n",
    "print(\"\\nb.\")\n",
    "print(\"Мода для равномерного: \", mode(distrib_uniform))\n",
    "print(\"Мода для равномерного: \", mode(distrib_normal))\n",
    "print(\"\\nc.\")\n",
    "print(\"Медиана для равномерного: \", median(distrib_uniform))\n",
    "print(\"Медиана для нормального: \", median(distrib_normal))\n",
    "print(\"\\nd.\")\n",
    "print(\"Минимум для равномерного: \", np.min(distrib_uniform))\n",
    "print(\"Минимум для нормального: \", np.min(distrib_normal))\n",
    "print(\"\\ne.\")\n",
    "print(\"Максимум для равномерного: \", np.max(distrib_uniform))\n",
    "print(\"Максимум для нормального: \", np.max(distrib_normal))\n",
    "print(\"\\nf.\")\n",
    "print(\"Стандартное отклонение для равномерного: \", np.std(distrib_uniform))\n",
    "print(\"Стандартное отклонение для нормального: \", np.std(distrib_normal))"
   ]
  },
  {
   "cell_type": "code",
   "execution_count": 921,
   "metadata": {},
   "outputs": [
    {
     "name": "stdout",
     "output_type": "stream",
     "text": [
      "П.6\n",
      "p-value: 0.5962843527748526\n"
     ]
    }
   ],
   "source": [
    "from scipy import stats\n",
    "\n",
    "#6\n",
    "print(\"П.6\")\n",
    "chi2, p_value = stats.chisquare(np.bincount(distrib_uniform)) #bincount подсчитывает кол-во вхождений каждого целого числа\n",
    "print(f\"p-value: {p_value}\")"
   ]
  }
 ],
 "metadata": {
  "kernelspec": {
   "display_name": "Python 3",
   "language": "python",
   "name": "python3"
  },
  "language_info": {
   "codemirror_mode": {
    "name": "ipython",
    "version": 3
   },
   "file_extension": ".py",
   "mimetype": "text/x-python",
   "name": "python",
   "nbconvert_exporter": "python",
   "pygments_lexer": "ipython3",
   "version": "3.12.0"
  },
  "polyglot_notebook": {
   "kernelInfo": {
    "defaultKernelName": "csharp",
    "items": [
     {
      "aliases": [],
      "languageName": "csharp",
      "name": "csharp"
     }
    ]
   }
  }
 },
 "nbformat": 4,
 "nbformat_minor": 2
}
